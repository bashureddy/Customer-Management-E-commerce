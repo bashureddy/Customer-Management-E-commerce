{
 "cells": [
  {
   "cell_type": "code",
   "execution_count": 1,
   "id": "0d48ca97-7348-4736-aa45-ac1227fa2e37",
   "metadata": {},
   "outputs": [
    {
     "name": "stdout",
     "output_type": "stream",
     "text": [
      "==== Customer Management System ====\n",
      "1. Add Customer\n",
      "2. Place Order\n",
      "3. View Order History\n",
      "4. Customer Report\n",
      "5. Exit\n"
     ]
    },
    {
     "name": "stdin",
     "output_type": "stream",
     "text": [
      "Enter your choice (1-5):  1\n",
      "Enter Customer ID:  101\n",
      "Enter Customer Name:  Bashu reddy\n",
      "Enter Customer Email:  Bashureddy@gmail.com\n",
      "Enter Customer Phone:  8634526718\n"
     ]
    },
    {
     "name": "stdout",
     "output_type": "stream",
     "text": [
      "\n",
      " Customer 'Bashu reddy' added successfully!\n",
      "\n",
      "==== Customer Management System ====\n",
      "1. Add Customer\n",
      "2. Place Order\n",
      "3. View Order History\n",
      "4. Customer Report\n",
      "5. Exit\n"
     ]
    },
    {
     "name": "stdin",
     "output_type": "stream",
     "text": [
      "Enter your choice (1-5):  2\n",
      "Enter Customer ID:  101\n",
      "Enter Order Details (e.g., '2x Ice Cream'):  Cake , Cold Drink\n"
     ]
    },
    {
     "name": "stdout",
     "output_type": "stream",
     "text": [
      " Order added for Bashu reddy.\n",
      "\n",
      "==== Customer Management System ====\n",
      "1. Add Customer\n",
      "2. Place Order\n",
      "3. View Order History\n",
      "4. Customer Report\n",
      "5. Exit\n"
     ]
    },
    {
     "name": "stdin",
     "output_type": "stream",
     "text": [
      "Enter your choice (1-5):  3\n",
      "Enter Customer ID:  101\n"
     ]
    },
    {
     "name": "stdout",
     "output_type": "stream",
     "text": [
      "\n",
      " Order History for Bashu reddy:\n",
      "  1. Cake , Cold Drink\n",
      "\n",
      "==== Customer Management System ====\n",
      "1. Add Customer\n",
      "2. Place Order\n",
      "3. View Order History\n",
      "4. Customer Report\n",
      "5. Exit\n"
     ]
    },
    {
     "name": "stdin",
     "output_type": "stream",
     "text": [
      "Enter your choice (1-5):  4\n"
     ]
    },
    {
     "name": "stdout",
     "output_type": "stream",
     "text": [
      "\n",
      " Customer Report:\n",
      "\n",
      "Customer ID: 101\n",
      "Name      : Bashu reddy\n",
      "Email     : Bashureddy@gmail.com\n",
      "Phone     : 8634526718\n",
      "Orders    : 1\n",
      "\n",
      "==== Customer Management System ====\n",
      "1. Add Customer\n",
      "2. Place Order\n",
      "3. View Order History\n",
      "4. Customer Report\n",
      "5. Exit\n"
     ]
    },
    {
     "name": "stdin",
     "output_type": "stream",
     "text": [
      "Enter your choice (1-5):  5\n"
     ]
    },
    {
     "name": "stdout",
     "output_type": "stream",
     "text": [
      " Exiting... Goodbye!\n"
     ]
    }
   ],
   "source": [
    "customers = {}  \n",
    "\n",
    "def add_customer():\n",
    "    customer_id = int(input(\"Enter Customer ID: \"))\n",
    "    name = input(\"Enter Customer Name: \")\n",
    "    email = input(\"Enter Customer Email: \")\n",
    "    phone = input(\"Enter Customer Phone: \")\n",
    "    if len(phone) == 10 and phone.isdigit():\n",
    "        customers[customer_id] = {\n",
    "            'name': name,\n",
    "            'email': email,\n",
    "            'phone': phone,\n",
    "            'orders':[]    \n",
    "        }\n",
    "        print(f\"\\n Customer '{name}' added successfully!\\n\")\n",
    "    else:\n",
    "        print(\"Wrong number! Enter 10 digit number.\\n\")\n",
    "\n",
    "\n",
    "def place_order():\n",
    "    customer_id = int(input(\"Enter Customer ID: \"))\n",
    "    if customer_id in customers:\n",
    "        order = input(\"Enter Order Details (e.g., '2x Ice Cream'): \")\n",
    "        customers[customer_id][\"orders\"].append(order)\n",
    "        print(f\" Order added for {customers[customer_id]['name']}.\\n\")\n",
    "    else:\n",
    "        print(\" Customer not found!\\n\")\n",
    "\n",
    "def view_order_history():\n",
    "    customer_id = int(input(\"Enter Customer ID: \"))\n",
    "    if customer_id in customers:\n",
    "        print(f\"\\n Order History for {customers[customer_id]['name']}:\")\n",
    "        orders = customers[customer_id][\"orders\"]\n",
    "        if orders:\n",
    "            for i, order in enumerate(orders, start=1):\n",
    "                print(f\"  {i}. {order}\")\n",
    "        else:\n",
    "            print(\"  No orders found.\")\n",
    "        print()\n",
    "    else:\n",
    "        print(\" Customer not found!\\n\")\n",
    "\n",
    "def customer_report():\n",
    "    if not customers:\n",
    "        print(\" No customers available.\\n\")\n",
    "        return\n",
    "    print(\"\\n Customer Report:\")\n",
    "    for cid, info in customers.items():\n",
    "        print(f\"\\nCustomer ID: {cid}\")\n",
    "        print(f\"Name      : {info['name']}\")\n",
    "        print(f\"Email     : {info['email']}\")\n",
    "        print(f\"Phone     : {info['phone']}\")\n",
    "        print(f\"Orders    : {len(info['orders'])}\")\n",
    "    print()\n",
    "\n",
    "\n",
    "while True:\n",
    "    print(\"==== Customer Management System ====\")\n",
    "    print(\"1. Add Customer\")\n",
    "    print(\"2. Place Order\")\n",
    "    print(\"3. View Order History\")\n",
    "    print(\"4. Customer Report\")\n",
    "    print(\"5. Exit\")\n",
    "\n",
    "    choice = int(input(\"Enter your choice (1-5): \"))\n",
    "\n",
    "    if choice == 1:\n",
    "        add_customer()\n",
    "    elif choice == 2:\n",
    "        place_order()\n",
    "    elif choice == 3:\n",
    "        view_order_history()\n",
    "    elif choice == 4:\n",
    "        customer_report()\n",
    "    elif choice == 5:\n",
    "        print(\" Exiting... Goodbye!\")\n",
    "        break\n",
    "    else:\n",
    "        print(\" Invalid choice! Please try again.\\n\")"
   ]
  },
  {
   "cell_type": "code",
   "execution_count": null,
   "id": "c9d8beb0-2297-4323-b941-a0ebd91728c3",
   "metadata": {},
   "outputs": [],
   "source": []
  }
 ],
 "metadata": {
  "kernelspec": {
   "display_name": "Python 3 (ipykernel)",
   "language": "python",
   "name": "python3"
  },
  "language_info": {
   "codemirror_mode": {
    "name": "ipython",
    "version": 3
   },
   "file_extension": ".py",
   "mimetype": "text/x-python",
   "name": "python",
   "nbconvert_exporter": "python",
   "pygments_lexer": "ipython3",
   "version": "3.13.5"
  }
 },
 "nbformat": 4,
 "nbformat_minor": 5
}
